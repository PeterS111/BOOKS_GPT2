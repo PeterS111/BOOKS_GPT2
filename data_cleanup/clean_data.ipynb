{
 "cells": [
  {
   "cell_type": "code",
   "execution_count": null,
   "metadata": {
    "ExecuteTime": {
     "end_time": "2020-02-28T19:47:24.651821Z",
     "start_time": "2020-02-28T19:47:24.649956Z"
    }
   },
   "outputs": [],
   "source": [
    "import os\n",
    "import re"
   ]
  },
  {
   "cell_type": "code",
   "execution_count": null,
   "metadata": {
    "ExecuteTime": {
     "end_time": "2020-02-28T19:47:24.686734Z",
     "start_time": "2020-02-28T19:47:24.652812Z"
    },
    "scrolled": true
   },
   "outputs": [],
   "source": [
    "with open(\"merged.txt\",'r', encoding=\"utf-8\") as f:\n",
    "    string = f.read()\n",
    "    print(string)"
   ]
  },
  {
   "cell_type": "code",
   "execution_count": null,
   "metadata": {
    "ExecuteTime": {
     "end_time": "2020-02-28T19:47:24.691133Z",
     "start_time": "2020-02-28T19:47:24.687979Z"
    }
   },
   "outputs": [],
   "source": [
    "def clean_text(string):\n",
    "    pattern = '(page|PAGE|Page)(\\s+\\|\\s+)([0-9]+)(.*)$'\n",
    "    output_cleaned = re.sub('\\s$', '', string, flags=re.MULTILINE)\n",
    "    p=re.compile(pattern,re.MULTILINE)\n",
    "    output_cleaned = p.sub(\" \",output_cleaned)\n",
    "    return output_cleaned"
   ]
  },
  {
   "cell_type": "code",
   "execution_count": null,
   "metadata": {
    "ExecuteTime": {
     "end_time": "2020-02-28T19:47:24.760530Z",
     "start_time": "2020-02-28T19:47:24.692096Z"
    }
   },
   "outputs": [],
   "source": [
    "check = clean_text(string)"
   ]
  },
  {
   "cell_type": "code",
   "execution_count": null,
   "metadata": {
    "ExecuteTime": {
     "end_time": "2020-02-28T19:47:24.798189Z",
     "start_time": "2020-02-28T19:47:24.761517Z"
    }
   },
   "outputs": [],
   "source": [
    "check"
   ]
  },
  {
   "cell_type": "code",
   "execution_count": null,
   "metadata": {
    "ExecuteTime": {
     "end_time": "2020-02-28T19:47:25.052198Z",
     "start_time": "2020-02-28T19:47:24.799496Z"
    }
   },
   "outputs": [],
   "source": [
    "with open(\"cleaned.txt\",'w', encoding=\"utf-8\") as f:\n",
    "     f.writelines(check)"
   ]
  },
  {
   "cell_type": "code",
   "execution_count": null,
   "metadata": {
    "ExecuteTime": {
     "end_time": "2020-02-28T19:47:25.055590Z",
     "start_time": "2020-02-28T19:47:25.053151Z"
    }
   },
   "outputs": [],
   "source": [
    "train_doc =[]\n",
    "val_doc =[]"
   ]
  },
  {
   "cell_type": "code",
   "execution_count": null,
   "metadata": {
    "ExecuteTime": {
     "end_time": "2020-02-28T19:47:25.073440Z",
     "start_time": "2020-02-28T19:47:25.056562Z"
    }
   },
   "outputs": [],
   "source": [
    "with open(\"cleaned.txt\",'r', encoding=\"utf-8\") as f:\n",
    "    file_input=f.readlines()"
   ]
  },
  {
   "cell_type": "code",
   "execution_count": null,
   "metadata": {
    "ExecuteTime": {
     "end_time": "2020-02-28T19:47:25.082753Z",
     "start_time": "2020-02-28T19:47:25.074448Z"
    }
   },
   "outputs": [],
   "source": [
    "file_input"
   ]
  },
  {
   "cell_type": "code",
   "execution_count": null,
   "metadata": {
    "ExecuteTime": {
     "end_time": "2020-02-28T19:47:25.104797Z",
     "start_time": "2020-02-28T19:47:25.083650Z"
    }
   },
   "outputs": [],
   "source": [
    "count = 0\n",
    "for cnt, line in enumerate(file_input):\n",
    "#         print(cnt)\n",
    "        if cnt <= len(file_input)*0.90:\n",
    "            train_doc.append(line)\n",
    "        else:\n",
    "            val_doc.append(line)\n",
    "    "
   ]
  },
  {
   "cell_type": "code",
   "execution_count": null,
   "metadata": {
    "ExecuteTime": {
     "end_time": "2020-02-28T19:47:25.109806Z",
     "start_time": "2020-02-28T19:47:25.105663Z"
    }
   },
   "outputs": [],
   "source": [
    "len(train_doc)"
   ]
  },
  {
   "cell_type": "code",
   "execution_count": null,
   "metadata": {
    "ExecuteTime": {
     "end_time": "2020-02-28T19:47:25.170417Z",
     "start_time": "2020-02-28T19:47:25.110761Z"
    }
   },
   "outputs": [],
   "source": [
    "## Write to file\n",
    "f = open('train.txt', \"w+\", encoding=\"utf-8\")\n",
    "count = 0\n",
    "for line in train_doc:\n",
    "    count=count+1\n",
    "    f.write(str(line))\n",
    "    f.write(\"\\n\")\n",
    "    \n",
    "f.close()\n",
    "print(count)"
   ]
  },
  {
   "cell_type": "code",
   "execution_count": null,
   "metadata": {
    "ExecuteTime": {
     "end_time": "2020-02-28T19:47:25.182196Z",
     "start_time": "2020-02-28T19:47:25.171502Z"
    }
   },
   "outputs": [],
   "source": [
    "## Write to file\n",
    "f = open('val.txt', \"w+\", encoding=\"utf-8\")\n",
    "count = 0\n",
    "for line in val_doc:\n",
    "    count=count+1\n",
    "    f.write(str(line))\n",
    "    f.write(\"\\n\")\n",
    "    \n",
    "f.close()\n",
    "print(count)"
   ]
  }
 ],
 "metadata": {
  "kernelspec": {
   "display_name": "Python 3",
   "language": "python",
   "name": "python3"
  },
  "language_info": {
   "codemirror_mode": {
    "name": "ipython",
    "version": 3
   },
   "file_extension": ".py",
   "mimetype": "text/x-python",
   "name": "python",
   "nbconvert_exporter": "python",
   "pygments_lexer": "ipython3",
   "version": "3.7.6"
  },
  "toc": {
   "base_numbering": 1,
   "nav_menu": {},
   "number_sections": true,
   "sideBar": true,
   "skip_h1_title": false,
   "title_cell": "Table of Contents",
   "title_sidebar": "Contents",
   "toc_cell": false,
   "toc_position": {},
   "toc_section_display": true,
   "toc_window_display": true
  }
 },
 "nbformat": 4,
 "nbformat_minor": 2
}
